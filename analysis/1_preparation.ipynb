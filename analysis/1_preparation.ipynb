{
 "cells": [
  {
   "cell_type": "code",
   "execution_count": 1,
   "id": "7a5a1d03",
   "metadata": {},
   "outputs": [],
   "source": [
    "from utils import *\n",
    "\n",
    "messages = pd.read_csv(\"data/messages.csv\", index_col=0)"
   ]
  },
  {
   "cell_type": "markdown",
   "id": "1569b1ab",
   "metadata": {},
   "source": [
    "# Data preprocessing"
   ]
  },
  {
   "cell_type": "markdown",
   "id": "75561aba",
   "metadata": {},
   "source": [
    "## Spell check, segmentation"
   ]
  },
  {
   "cell_type": "code",
   "execution_count": 2,
   "id": "1a2e6da7",
   "metadata": {},
   "outputs": [],
   "source": [
    "symspell = SymSpell(prefix_length=10)\n",
    "\n",
    "# ENV variable DICTIONARY_PATH\n",
    "symspell.load_dictionary(DICTIONARY_PATH, term_index=0, count_index=1)\n",
    "\n",
    "def correctText(text):\n",
    "    return symspell.lookup_compound(text, max_edit_distance=2)[0].term\n",
    "\n",
    "def segmentText(text):\n",
    "    return symspell.word_segmentation(text, max_edit_distance=0).corrected_string\n",
    "\n",
    "messages['segmentedContent'] = messages['content'].apply(lambda x: segmentText(x))\n",
    "messages['correctedContent'] = messages['content'].apply(lambda x: correctText(x))"
   ]
  },
  {
   "cell_type": "markdown",
   "id": "a83e8238",
   "metadata": {},
   "source": [
    "## Automated sentiment analysis"
   ]
  },
  {
   "cell_type": "code",
   "execution_count": 3,
   "id": "4cfc629a",
   "metadata": {},
   "outputs": [],
   "source": [
    "sia = SentimentIntensityAnalyzer()\n",
    "messages['autoSentiment'] = messages['correctedContent'].apply(lambda x: sia.polarity_scores(x)['compound'])"
   ]
  },
  {
   "cell_type": "markdown",
   "id": "71ebcdc0",
   "metadata": {},
   "source": [
    "## Word/character counts"
   ]
  },
  {
   "cell_type": "code",
   "execution_count": 4,
   "id": "8a28a2e3",
   "metadata": {},
   "outputs": [],
   "source": [
    "messages['wordCount'] = messages['correctedContent'].apply(lambda x: len(x.split()))\n",
    "messages['charCount'] = messages['correctedContent'].apply(lambda x: len(x))"
   ]
  },
  {
   "cell_type": "markdown",
   "id": "cd16f1e4",
   "metadata": {},
   "source": [
    "## Informativeness score calculation"
   ]
  },
  {
   "cell_type": "code",
   "execution_count": 5,
   "id": "32ba13ca",
   "metadata": {},
   "outputs": [],
   "source": [
    "def informativeness(text):\n",
    "    words = re.findall(r\"\\b\\w+'\\w+|\\w+\\b\", text.lower())\n",
    "    totalSurprisal = 0\n",
    "    for word in words:\n",
    "        frequency = word_frequency(word, 'en', wordlist='large', minimum=0.0)\n",
    "        surprisal = -math.log2(frequency) if frequency != 0 else 0\n",
    "        totalSurprisal += surprisal\n",
    "    return totalSurprisal"
   ]
  },
  {
   "cell_type": "code",
   "execution_count": 6,
   "id": "0b11ad13",
   "metadata": {},
   "outputs": [],
   "source": [
    "messages['informativeness'] = messages['correctedContent'].apply(lambda x: informativeness(x))"
   ]
  },
  {
   "cell_type": "code",
   "execution_count": 7,
   "id": "273fef5d",
   "metadata": {},
   "outputs": [],
   "source": [
    "messages.to_csv(\"data/messages.csv\")"
   ]
  }
 ],
 "metadata": {
  "kernelspec": {
   "display_name": ".venv",
   "language": "python",
   "name": "python3"
  },
  "language_info": {
   "codemirror_mode": {
    "name": "ipython",
    "version": 3
   },
   "file_extension": ".py",
   "mimetype": "text/x-python",
   "name": "python",
   "nbconvert_exporter": "python",
   "pygments_lexer": "ipython3",
   "version": "3.12.1"
  }
 },
 "nbformat": 4,
 "nbformat_minor": 5
}
